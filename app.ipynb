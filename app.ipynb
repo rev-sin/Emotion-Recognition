{
 "cells": [
  {
   "cell_type": "code",
   "execution_count": null,
   "metadata": {},
   "outputs": [],
   "source": [
    "import cv2\n",
    "from fer import FER\n",
    "import matplotlib.pyplot as plt\n",
    "import matplotlib.image as mpimg"
   ]
  },
  {
   "cell_type": "code",
   "execution_count": null,
   "metadata": {},
   "outputs": [],
   "source": [
    "# Input Image\n",
    "input_image = cv2.imread(\"smile.jpg\") \n",
    "emotion_detector = FER() \n",
    "# Output image's information\n",
    "print(emotion_detector.detect_emotions(input_image)) "
   ]
  },
  {
   "cell_type": "code",
   "execution_count": null,
   "metadata": {},
   "outputs": [],
   "source": [
    "input_image = cv2.imread(\"smile.jpg\")\n",
    "emotion_detector = FER(mtcnn=True)"
   ]
  },
  {
   "cell_type": "code",
   "execution_count": null,
   "metadata": {},
   "outputs": [],
   "source": [
    "# Save output in result variable\n",
    "result = emotion_detector.detect_emotions(input_image)"
   ]
  },
  {
   "cell_type": "code",
   "execution_count": null,
   "metadata": {},
   "outputs": [],
   "source": [
    "bounding_box = result[0][\"box\"]\n",
    "emotions = result[0][\"emotions\"]\n",
    "cv2.rectangle(input_image,(\n",
    "  bounding_box[0], bounding_box[1]),(\n",
    "  bounding_box[0] + bounding_box[2], bounding_box[1] + bounding_box[3]), (0, 155, 255), 2,)"
   ]
  },
  {
   "cell_type": "code",
   "execution_count": null,
   "metadata": {},
   "outputs": [],
   "source": [
    "emotion_name, score = emotion_detector.top_emotion(input_image)\n",
    "for index, (emotion_name, score) in enumerate(emotions.items()):\n",
    "   color = (0, 0, 0) if score < 0.01 else (255, 0, 0)\n",
    "   emotion_score = \"{}: {}\".format(emotion_name, \"{:.2f}\".format(score))\n",
    " \n",
    "   cv2.putText(input_image,emotion_score, (bounding_box[0], bounding_box[1] + bounding_box[3] + 30 + index * 15), cv2.FONT_HERSHEY_SIMPLEX,0.5,color,1,cv2.LINE_AA,)\n",
    " \n",
    "#Save the result in new image file\n",
    "cv2.imwrite(\"emotion.jpg\", input_image) "
   ]
  },
  {
   "cell_type": "code",
   "execution_count": null,
   "metadata": {},
   "outputs": [],
   "source": [
    "# Read image file using matplotlib's image module\n",
    "result_image = mpimg.imread('emotion.jpg') \n",
    "imgplot = plt.imshow(result_image)\n",
    "# Display Output Image\n",
    "plt.show()"
   ]
  }
 ],
 "metadata": {
  "kernelspec": {
   "display_name": "base",
   "language": "python",
   "name": "python3"
  },
  "language_info": {
   "codemirror_mode": {
    "name": "ipython",
    "version": 3
   },
   "file_extension": ".py",
   "mimetype": "text/x-python",
   "name": "python",
   "nbconvert_exporter": "python",
   "pygments_lexer": "ipython3",
   "version": "3.12.4"
  }
 },
 "nbformat": 4,
 "nbformat_minor": 2
}
